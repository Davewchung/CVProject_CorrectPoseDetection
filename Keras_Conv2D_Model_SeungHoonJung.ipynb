{
  "nbformat": 4,
  "nbformat_minor": 0,
  "metadata": {
    "colab": {
      "provenance": []
    },
    "kernelspec": {
      "name": "python3",
      "display_name": "Python 3"
    },
    "language_info": {
      "name": "python"
    },
    "gpuClass": "standard"
  },
  "cells": [
    {
      "cell_type": "code",
      "source": [
        "!pip install keras\n",
        "!pip install tensorflow"
      ],
      "metadata": {
        "id": "TUoiVVmLS4eF",
        "colab": {
          "base_uri": "https://localhost:8080/"
        },
        "outputId": "b7c3a15d-766e-4521-d6de-c568d0c6eb81"
      },
      "execution_count": null,
      "outputs": [
        {
          "output_type": "stream",
          "name": "stdout",
          "text": [
            "Looking in indexes: https://pypi.org/simple, https://us-python.pkg.dev/colab-wheels/public/simple/\n",
            "Requirement already satisfied: keras in /usr/local/lib/python3.8/dist-packages (2.8.0)\n",
            "Looking in indexes: https://pypi.org/simple, https://us-python.pkg.dev/colab-wheels/public/simple/\n",
            "Requirement already satisfied: tensorflow in /usr/local/lib/python3.8/dist-packages (2.9.2)\n",
            "Requirement already satisfied: setuptools in /usr/local/lib/python3.8/dist-packages (from tensorflow) (57.4.0)\n",
            "Requirement already satisfied: libclang>=13.0.0 in /usr/local/lib/python3.8/dist-packages (from tensorflow) (14.0.6)\n",
            "Requirement already satisfied: typing-extensions>=3.6.6 in /usr/local/lib/python3.8/dist-packages (from tensorflow) (4.4.0)\n",
            "Requirement already satisfied: keras-preprocessing>=1.1.1 in /usr/local/lib/python3.8/dist-packages (from tensorflow) (1.1.2)\n",
            "Collecting keras<2.10.0,>=2.9.0rc0\n",
            "  Downloading keras-2.9.0-py2.py3-none-any.whl (1.6 MB)\n",
            "\u001b[K     |████████████████████████████████| 1.6 MB 5.7 MB/s \n",
            "\u001b[?25hRequirement already satisfied: termcolor>=1.1.0 in /usr/local/lib/python3.8/dist-packages (from tensorflow) (2.1.1)\n",
            "Requirement already satisfied: grpcio<2.0,>=1.24.3 in /usr/local/lib/python3.8/dist-packages (from tensorflow) (1.51.1)\n",
            "Requirement already satisfied: tensorflow-io-gcs-filesystem>=0.23.1 in /usr/local/lib/python3.8/dist-packages (from tensorflow) (0.28.0)\n",
            "Requirement already satisfied: wrapt>=1.11.0 in /usr/local/lib/python3.8/dist-packages (from tensorflow) (1.14.1)\n",
            "Requirement already satisfied: google-pasta>=0.1.1 in /usr/local/lib/python3.8/dist-packages (from tensorflow) (0.2.0)\n",
            "Requirement already satisfied: tensorboard<2.10,>=2.9 in /usr/local/lib/python3.8/dist-packages (from tensorflow) (2.9.1)\n",
            "Requirement already satisfied: packaging in /usr/local/lib/python3.8/dist-packages (from tensorflow) (21.3)\n",
            "Requirement already satisfied: gast<=0.4.0,>=0.2.1 in /usr/local/lib/python3.8/dist-packages (from tensorflow) (0.4.0)\n",
            "Requirement already satisfied: numpy>=1.20 in /usr/local/lib/python3.8/dist-packages (from tensorflow) (1.21.6)\n",
            "Requirement already satisfied: opt-einsum>=2.3.2 in /usr/local/lib/python3.8/dist-packages (from tensorflow) (3.3.0)\n",
            "Requirement already satisfied: tensorflow-estimator<2.10.0,>=2.9.0rc0 in /usr/local/lib/python3.8/dist-packages (from tensorflow) (2.9.0)\n",
            "Requirement already satisfied: absl-py>=1.0.0 in /usr/local/lib/python3.8/dist-packages (from tensorflow) (1.3.0)\n",
            "Requirement already satisfied: h5py>=2.9.0 in /usr/local/lib/python3.8/dist-packages (from tensorflow) (3.1.0)\n",
            "Requirement already satisfied: astunparse>=1.6.0 in /usr/local/lib/python3.8/dist-packages (from tensorflow) (1.6.3)\n",
            "Requirement already satisfied: six>=1.12.0 in /usr/local/lib/python3.8/dist-packages (from tensorflow) (1.15.0)\n",
            "Requirement already satisfied: protobuf<3.20,>=3.9.2 in /usr/local/lib/python3.8/dist-packages (from tensorflow) (3.19.6)\n",
            "Requirement already satisfied: flatbuffers<2,>=1.12 in /usr/local/lib/python3.8/dist-packages (from tensorflow) (1.12)\n",
            "Requirement already satisfied: wheel<1.0,>=0.23.0 in /usr/local/lib/python3.8/dist-packages (from astunparse>=1.6.0->tensorflow) (0.38.4)\n",
            "Requirement already satisfied: markdown>=2.6.8 in /usr/local/lib/python3.8/dist-packages (from tensorboard<2.10,>=2.9->tensorflow) (3.4.1)\n",
            "Requirement already satisfied: tensorboard-data-server<0.7.0,>=0.6.0 in /usr/local/lib/python3.8/dist-packages (from tensorboard<2.10,>=2.9->tensorflow) (0.6.1)\n",
            "Requirement already satisfied: requests<3,>=2.21.0 in /usr/local/lib/python3.8/dist-packages (from tensorboard<2.10,>=2.9->tensorflow) (2.23.0)\n",
            "Requirement already satisfied: google-auth-oauthlib<0.5,>=0.4.1 in /usr/local/lib/python3.8/dist-packages (from tensorboard<2.10,>=2.9->tensorflow) (0.4.6)\n",
            "Requirement already satisfied: werkzeug>=1.0.1 in /usr/local/lib/python3.8/dist-packages (from tensorboard<2.10,>=2.9->tensorflow) (1.0.1)\n",
            "Requirement already satisfied: tensorboard-plugin-wit>=1.6.0 in /usr/local/lib/python3.8/dist-packages (from tensorboard<2.10,>=2.9->tensorflow) (1.8.1)\n",
            "Requirement already satisfied: google-auth<3,>=1.6.3 in /usr/local/lib/python3.8/dist-packages (from tensorboard<2.10,>=2.9->tensorflow) (2.15.0)\n",
            "Requirement already satisfied: cachetools<6.0,>=2.0.0 in /usr/local/lib/python3.8/dist-packages (from google-auth<3,>=1.6.3->tensorboard<2.10,>=2.9->tensorflow) (5.2.0)\n",
            "Requirement already satisfied: rsa<5,>=3.1.4 in /usr/local/lib/python3.8/dist-packages (from google-auth<3,>=1.6.3->tensorboard<2.10,>=2.9->tensorflow) (4.9)\n",
            "Requirement already satisfied: pyasn1-modules>=0.2.1 in /usr/local/lib/python3.8/dist-packages (from google-auth<3,>=1.6.3->tensorboard<2.10,>=2.9->tensorflow) (0.2.8)\n",
            "Requirement already satisfied: requests-oauthlib>=0.7.0 in /usr/local/lib/python3.8/dist-packages (from google-auth-oauthlib<0.5,>=0.4.1->tensorboard<2.10,>=2.9->tensorflow) (1.3.1)\n",
            "Requirement already satisfied: importlib-metadata>=4.4 in /usr/local/lib/python3.8/dist-packages (from markdown>=2.6.8->tensorboard<2.10,>=2.9->tensorflow) (5.1.0)\n",
            "Requirement already satisfied: zipp>=0.5 in /usr/local/lib/python3.8/dist-packages (from importlib-metadata>=4.4->markdown>=2.6.8->tensorboard<2.10,>=2.9->tensorflow) (3.11.0)\n",
            "Requirement already satisfied: pyasn1<0.5.0,>=0.4.6 in /usr/local/lib/python3.8/dist-packages (from pyasn1-modules>=0.2.1->google-auth<3,>=1.6.3->tensorboard<2.10,>=2.9->tensorflow) (0.4.8)\n",
            "Requirement already satisfied: chardet<4,>=3.0.2 in /usr/local/lib/python3.8/dist-packages (from requests<3,>=2.21.0->tensorboard<2.10,>=2.9->tensorflow) (3.0.4)\n",
            "Requirement already satisfied: idna<3,>=2.5 in /usr/local/lib/python3.8/dist-packages (from requests<3,>=2.21.0->tensorboard<2.10,>=2.9->tensorflow) (2.10)\n",
            "Requirement already satisfied: urllib3!=1.25.0,!=1.25.1,<1.26,>=1.21.1 in /usr/local/lib/python3.8/dist-packages (from requests<3,>=2.21.0->tensorboard<2.10,>=2.9->tensorflow) (1.24.3)\n",
            "Requirement already satisfied: certifi>=2017.4.17 in /usr/local/lib/python3.8/dist-packages (from requests<3,>=2.21.0->tensorboard<2.10,>=2.9->tensorflow) (2022.12.7)\n",
            "Requirement already satisfied: oauthlib>=3.0.0 in /usr/local/lib/python3.8/dist-packages (from requests-oauthlib>=0.7.0->google-auth-oauthlib<0.5,>=0.4.1->tensorboard<2.10,>=2.9->tensorflow) (3.2.2)\n",
            "Requirement already satisfied: pyparsing!=3.0.5,>=2.0.2 in /usr/local/lib/python3.8/dist-packages (from packaging->tensorflow) (3.0.9)\n",
            "Installing collected packages: keras\n",
            "  Attempting uninstall: keras\n",
            "    Found existing installation: keras 2.8.0\n",
            "    Uninstalling keras-2.8.0:\n",
            "      Successfully uninstalled keras-2.8.0\n",
            "Successfully installed keras-2.9.0\n"
          ]
        }
      ]
    },
    {
      "cell_type": "code",
      "source": [
        "import cv2\n",
        "from google.colab.patches import cv2_imshow\n",
        "import numpy as np \n",
        "import pandas as pd \n",
        "import matplotlib.pyplot as plt\n",
        "import seaborn as sns\n",
        "import tensorflow as tf\n",
        "import keras\n",
        "from PIL import Image\n",
        "from keras_preprocessing import image\n",
        "from keras.models import Sequential\n",
        "from keras.layers import Conv2D, MaxPool2D, Flatten,Dense,Dropout,BatchNormalization\n",
        "from tensorflow.keras.preprocessing.image import ImageDataGenerator\n",
        "import cv2\n",
        "from keras.layers import Input, Lambda, Dense, Flatten\n",
        "from tensorflow.keras.applications import VGG16, InceptionResNetV2\n",
        "from keras import regularizers\n",
        "from tensorflow.keras.optimizers import Adam,RMSprop,SGD,Adamax"
      ],
      "metadata": {
        "id": "cepw3XlpSAaW"
      },
      "execution_count": null,
      "outputs": []
    },
    {
      "cell_type": "code",
      "source": [
        "# Connect drive to colab to get the test & train dataset\n",
        "from google.colab import drive\n",
        "drive.mount('/content/drive')\n",
        "\n",
        "path = '/content/drive/MyDrive/CV Group Project/DATASET'"
      ],
      "metadata": {
        "id": "DoGeNI02SXc2",
        "colab": {
          "base_uri": "https://localhost:8080/"
        },
        "outputId": "22bb53f4-3ee3-49a0-e221-01e6b0e03c2f"
      },
      "execution_count": null,
      "outputs": [
        {
          "output_type": "stream",
          "name": "stdout",
          "text": [
            "Drive already mounted at /content/drive; to attempt to forcibly remount, call drive.mount(\"/content/drive\", force_remount=True).\n"
          ]
        }
      ]
    },
    {
      "cell_type": "code",
      "source": [
        "train_dir = '/content/drive/MyDrive/CV Group Project/DATASET/TRAIN/' #directory with training images\n",
        "test_dir = '/content/drive/MyDrive/CV Group Project/DATASET/TEST/' #directory with testing images"
      ],
      "metadata": {
        "id": "OK5wFbSUSBVV"
      },
      "execution_count": null,
      "outputs": []
    },
    {
      "cell_type": "code",
      "source": [
        "train_datagen = ImageDataGenerator(width_shift_range= 0.1,\n",
        "                                  horizontal_flip = True,\n",
        "                                  rescale = 1./255,\n",
        "                                  validation_split = 0.2)\n",
        "test_datagen = ImageDataGenerator(rescale = 1./255,\n",
        "                                 validation_split = 0.2)"
      ],
      "metadata": {
        "id": "VpVSNh_LSEeb"
      },
      "execution_count": null,
      "outputs": []
    },
    {
      "cell_type": "code",
      "source": [
        "train_generator =  train_datagen.flow_from_directory(directory = train_dir,\n",
        "                                                    target_size = (224,224),\n",
        "                                                    color_mode = 'rgb',\n",
        "                                                    class_mode = 'categorical',\n",
        "                                                    batch_size = 16,\n",
        "                                                    subset = 'training')\n",
        "validation_generator  = test_datagen.flow_from_directory(directory = test_dir,\n",
        "                                                  target_size = (224,224),\n",
        "                                                  color_mode = 'rgb',\n",
        "                                                  class_mode = 'categorical',\n",
        "                                                  subset = 'validation')"
      ],
      "metadata": {
        "id": "2B1FPuhfSFwZ",
        "colab": {
          "base_uri": "https://localhost:8080/"
        },
        "outputId": "0ff0c5bc-71ed-4262-8e85-3f793fde7dc0"
      },
      "execution_count": null,
      "outputs": [
        {
          "output_type": "stream",
          "name": "stdout",
          "text": [
            "Found 866 images belonging to 5 classes.\n",
            "Found 92 images belonging to 5 classes.\n"
          ]
        }
      ]
    },
    {
      "cell_type": "code",
      "source": [
        "model = tf.keras.models.Sequential([\n",
        "    tf.keras.layers.Conv2D(64, (3,3), activation='relu',padding = 'Same', input_shape=(224, 224, 3)),\n",
        "    tf.keras.layers.MaxPooling2D(2, 2),\n",
        "    tf.keras.layers.Dropout(0.25),\n",
        "    tf.keras.layers.Conv2D(128, (3,3), activation='relu',padding = 'Same'),\n",
        "    tf.keras.layers.MaxPooling2D(2,2),\n",
        "    tf.keras.layers.Dropout(0.25),\n",
        "    tf.keras.layers.Conv2D(256, (3,3), activation='relu',padding = 'Same'),\n",
        "    tf.keras.layers.MaxPooling2D(2,2),\n",
        "    tf.keras.layers.Dropout(0.25),\n",
        "    tf.keras.layers.Flatten(),\n",
        "    tf.keras.layers.Dense(1024, activation='relu'),\n",
        "    tf.keras.layers.Dropout(0.5),\n",
        "    tf.keras.layers.Dense(5, activation='softmax')\n",
        "])"
      ],
      "metadata": {
        "id": "rS41PsHeSHR_"
      },
      "execution_count": null,
      "outputs": []
    },
    {
      "cell_type": "code",
      "source": [
        "optimizer = Adam(lr=0.001)\n",
        "model.compile(loss='categorical_crossentropy',\n",
        "              optimizer = optimizer,\n",
        "              metrics=['accuracy'])\n",
        "epochs = 50  \n",
        "batch_size = 16"
      ],
      "metadata": {
        "id": "L2GtbUczSIps",
        "colab": {
          "base_uri": "https://localhost:8080/"
        },
        "outputId": "ff531fe5-9355-440a-8364-a4b056c2630c"
      },
      "execution_count": null,
      "outputs": [
        {
          "output_type": "stream",
          "name": "stderr",
          "text": [
            "/usr/local/lib/python3.8/dist-packages/keras/optimizers/optimizer_v2/adam.py:110: UserWarning: The `lr` argument is deprecated, use `learning_rate` instead.\n",
            "  super(Adam, self).__init__(name, **kwargs)\n"
          ]
        }
      ]
    },
    {
      "cell_type": "code",
      "source": [
        "from PIL import ImageFile\n",
        "ImageFile.LOAD_TRUNCATED_IMAGES = True"
      ],
      "metadata": {
        "id": "1yVhc_3DSK7P"
      },
      "execution_count": null,
      "outputs": []
    },
    {
      "cell_type": "code",
      "source": [
        "history = model.fit(train_generator, epochs = epochs,validation_data = validation_generator)"
      ],
      "metadata": {
        "id": "waRjFOdaSM0c",
        "colab": {
          "base_uri": "https://localhost:8080/"
        },
        "outputId": "855147e8-4dce-497d-ee2b-921f783ca3a6"
      },
      "execution_count": null,
      "outputs": [
        {
          "output_type": "stream",
          "name": "stdout",
          "text": [
            "Epoch 1/50\n",
            " 2/55 [>.............................] - ETA: 5:48 - loss: 28.9953 - accuracy: 0.2188"
          ]
        },
        {
          "output_type": "stream",
          "name": "stderr",
          "text": [
            "/usr/local/lib/python3.8/dist-packages/PIL/Image.py:959: UserWarning: Palette images with Transparency expressed in bytes should be converted to RGBA images\n",
            "  warnings.warn(\n"
          ]
        },
        {
          "output_type": "stream",
          "name": "stdout",
          "text": [
            "55/55 [==============================] - 370s 7s/step - loss: 3.5922 - accuracy: 0.2286 - val_loss: 1.6038 - val_accuracy: 0.2283\n",
            "Epoch 2/50\n",
            "55/55 [==============================] - 355s 6s/step - loss: 1.6010 - accuracy: 0.2286 - val_loss: 1.5964 - val_accuracy: 0.2500\n",
            "Epoch 3/50\n",
            "55/55 [==============================] - 349s 6s/step - loss: 1.5963 - accuracy: 0.2436 - val_loss: 1.5929 - val_accuracy: 0.2283\n",
            "Epoch 4/50\n",
            "55/55 [==============================] - 353s 6s/step - loss: 1.5935 - accuracy: 0.2390 - val_loss: 1.5799 - val_accuracy: 0.2500\n",
            "Epoch 5/50\n",
            "55/55 [==============================] - 344s 6s/step - loss: 1.5810 - accuracy: 0.2610 - val_loss: 1.4728 - val_accuracy: 0.3152\n",
            "Epoch 6/50\n",
            "55/55 [==============================] - 349s 6s/step - loss: 1.5472 - accuracy: 0.2852 - val_loss: 1.4210 - val_accuracy: 0.3913\n",
            "Epoch 7/50\n",
            "55/55 [==============================] - 345s 6s/step - loss: 1.5081 - accuracy: 0.3199 - val_loss: 1.4575 - val_accuracy: 0.4239\n",
            "Epoch 8/50\n",
            "55/55 [==============================] - 352s 6s/step - loss: 1.4679 - accuracy: 0.3568 - val_loss: 1.2781 - val_accuracy: 0.5543\n",
            "Epoch 9/50\n",
            "55/55 [==============================] - 344s 6s/step - loss: 1.4240 - accuracy: 0.4145 - val_loss: 1.2165 - val_accuracy: 0.5870\n",
            "Epoch 10/50\n",
            "55/55 [==============================] - 350s 6s/step - loss: 1.4459 - accuracy: 0.3764 - val_loss: 1.1867 - val_accuracy: 0.5217\n",
            "Epoch 11/50\n",
            "55/55 [==============================] - 353s 6s/step - loss: 1.3453 - accuracy: 0.4342 - val_loss: 1.0743 - val_accuracy: 0.6413\n",
            "Epoch 12/50\n",
            "55/55 [==============================] - 347s 6s/step - loss: 1.3563 - accuracy: 0.4746 - val_loss: 1.0422 - val_accuracy: 0.6196\n",
            "Epoch 13/50\n",
            "55/55 [==============================] - 353s 6s/step - loss: 1.2162 - accuracy: 0.5104 - val_loss: 0.8313 - val_accuracy: 0.7500\n",
            "Epoch 14/50\n",
            "55/55 [==============================] - 346s 6s/step - loss: 1.1447 - accuracy: 0.5497 - val_loss: 0.7877 - val_accuracy: 0.7609\n",
            "Epoch 15/50\n",
            "55/55 [==============================] - 350s 6s/step - loss: 1.0614 - accuracy: 0.5982 - val_loss: 0.6733 - val_accuracy: 0.8043\n",
            "Epoch 16/50\n",
            "55/55 [==============================] - 356s 6s/step - loss: 0.9997 - accuracy: 0.6282 - val_loss: 0.8666 - val_accuracy: 0.7500\n",
            "Epoch 17/50\n",
            "55/55 [==============================] - 355s 6s/step - loss: 0.9739 - accuracy: 0.6594 - val_loss: 0.6795 - val_accuracy: 0.7717\n",
            "Epoch 18/50\n",
            "55/55 [==============================] - 355s 6s/step - loss: 0.9099 - accuracy: 0.6559 - val_loss: 0.5629 - val_accuracy: 0.8152\n",
            "Epoch 19/50\n",
            "55/55 [==============================] - 351s 6s/step - loss: 0.8417 - accuracy: 0.7067 - val_loss: 0.5532 - val_accuracy: 0.8261\n",
            "Epoch 20/50\n",
            "55/55 [==============================] - 353s 6s/step - loss: 0.8294 - accuracy: 0.6917 - val_loss: 0.4650 - val_accuracy: 0.8587\n",
            "Epoch 21/50\n",
            "55/55 [==============================] - 358s 7s/step - loss: 0.7383 - accuracy: 0.7425 - val_loss: 0.4791 - val_accuracy: 0.8043\n",
            "Epoch 22/50\n",
            "55/55 [==============================] - 370s 7s/step - loss: 0.6740 - accuracy: 0.7448 - val_loss: 0.4200 - val_accuracy: 0.8913\n",
            "Epoch 23/50\n",
            "55/55 [==============================] - 368s 7s/step - loss: 0.6575 - accuracy: 0.7575 - val_loss: 0.4715 - val_accuracy: 0.8478\n",
            "Epoch 24/50\n",
            "55/55 [==============================] - 361s 7s/step - loss: 0.6228 - accuracy: 0.7702 - val_loss: 0.3896 - val_accuracy: 0.8804\n",
            "Epoch 25/50\n",
            "55/55 [==============================] - 356s 6s/step - loss: 0.5710 - accuracy: 0.7956 - val_loss: 0.3088 - val_accuracy: 0.8804\n",
            "Epoch 26/50\n",
            "55/55 [==============================] - 355s 6s/step - loss: 0.5327 - accuracy: 0.8072 - val_loss: 0.2902 - val_accuracy: 0.8804\n",
            "Epoch 27/50\n",
            "55/55 [==============================] - 350s 6s/step - loss: 0.5000 - accuracy: 0.8129 - val_loss: 0.3802 - val_accuracy: 0.8913\n",
            "Epoch 28/50\n",
            "55/55 [==============================] - 356s 6s/step - loss: 0.4352 - accuracy: 0.8464 - val_loss: 0.3302 - val_accuracy: 0.9130\n",
            "Epoch 29/50\n",
            "55/55 [==============================] - 353s 6s/step - loss: 0.4217 - accuracy: 0.8603 - val_loss: 0.3640 - val_accuracy: 0.9022\n",
            "Epoch 30/50\n",
            "55/55 [==============================] - 347s 6s/step - loss: 0.3664 - accuracy: 0.8753 - val_loss: 0.3328 - val_accuracy: 0.8696\n",
            "Epoch 31/50\n",
            "55/55 [==============================] - 360s 7s/step - loss: 0.4226 - accuracy: 0.8557 - val_loss: 0.3732 - val_accuracy: 0.8913\n",
            "Epoch 32/50\n",
            "55/55 [==============================] - 350s 6s/step - loss: 0.3513 - accuracy: 0.8788 - val_loss: 0.2715 - val_accuracy: 0.9348\n",
            "Epoch 33/50\n",
            "55/55 [==============================] - 364s 7s/step - loss: 0.3665 - accuracy: 0.8672 - val_loss: 0.2928 - val_accuracy: 0.8913\n",
            "Epoch 34/50\n",
            "55/55 [==============================] - 361s 7s/step - loss: 0.3023 - accuracy: 0.8903 - val_loss: 0.3135 - val_accuracy: 0.9239\n",
            "Epoch 35/50\n",
            "55/55 [==============================] - 358s 6s/step - loss: 0.3226 - accuracy: 0.8984 - val_loss: 0.3116 - val_accuracy: 0.9022\n",
            "Epoch 36/50\n",
            "55/55 [==============================] - 358s 7s/step - loss: 0.3130 - accuracy: 0.9042 - val_loss: 0.3431 - val_accuracy: 0.8913\n",
            "Epoch 37/50\n",
            "55/55 [==============================] - 364s 7s/step - loss: 0.2348 - accuracy: 0.9319 - val_loss: 0.3413 - val_accuracy: 0.8913\n",
            "Epoch 38/50\n",
            "55/55 [==============================] - 366s 7s/step - loss: 0.2170 - accuracy: 0.9226 - val_loss: 0.2057 - val_accuracy: 0.9022\n",
            "Epoch 39/50\n",
            "55/55 [==============================] - 363s 7s/step - loss: 0.2919 - accuracy: 0.9134 - val_loss: 0.4234 - val_accuracy: 0.8587\n",
            "Epoch 40/50\n",
            "55/55 [==============================] - 354s 6s/step - loss: 0.2555 - accuracy: 0.9249 - val_loss: 0.1859 - val_accuracy: 0.9239\n",
            "Epoch 41/50\n",
            "55/55 [==============================] - 360s 7s/step - loss: 0.3189 - accuracy: 0.9007 - val_loss: 0.2839 - val_accuracy: 0.9022\n",
            "Epoch 42/50\n",
            "55/55 [==============================] - 357s 6s/step - loss: 0.2181 - accuracy: 0.9238 - val_loss: 0.2461 - val_accuracy: 0.9239\n",
            "Epoch 43/50\n",
            "55/55 [==============================] - 369s 7s/step - loss: 0.2244 - accuracy: 0.9365 - val_loss: 0.3748 - val_accuracy: 0.9239\n",
            "Epoch 44/50\n",
            "55/55 [==============================] - 368s 7s/step - loss: 0.1836 - accuracy: 0.9411 - val_loss: 0.3223 - val_accuracy: 0.9130\n",
            "Epoch 45/50\n",
            "55/55 [==============================] - 363s 7s/step - loss: 0.1799 - accuracy: 0.9492 - val_loss: 0.3424 - val_accuracy: 0.9022\n",
            "Epoch 46/50\n",
            "55/55 [==============================] - 367s 7s/step - loss: 0.2052 - accuracy: 0.9330 - val_loss: 0.2635 - val_accuracy: 0.9130\n",
            "Epoch 47/50\n",
            "55/55 [==============================] - 368s 7s/step - loss: 0.2023 - accuracy: 0.9492 - val_loss: 0.5039 - val_accuracy: 0.9022\n",
            "Epoch 48/50\n",
            "55/55 [==============================] - 367s 7s/step - loss: 0.1741 - accuracy: 0.9469 - val_loss: 0.5425 - val_accuracy: 0.8913\n",
            "Epoch 49/50\n",
            "55/55 [==============================] - 365s 7s/step - loss: 0.1822 - accuracy: 0.9480 - val_loss: 0.2729 - val_accuracy: 0.8696\n",
            "Epoch 50/50\n",
            "55/55 [==============================] - 365s 7s/step - loss: 0.1259 - accuracy: 0.9607 - val_loss: 0.3723 - val_accuracy: 0.8913\n"
          ]
        }
      ]
    },
    {
      "cell_type": "code",
      "source": [
        "fig , ax = plt.subplots(1,2)\n",
        "train_acc = history.history['accuracy']\n",
        "train_loss = history.history['loss']\n",
        "fig.set_size_inches(12,4)\n",
        "\n",
        "ax[0].plot(history.history['accuracy'])\n",
        "ax[0].plot(history.history['val_accuracy'])\n",
        "ax[0].set_title('Training Accuracy vs Validation Accuracy')\n",
        "ax[0].set_ylabel('Accuracy')\n",
        "ax[0].set_xlabel('Epoch')\n",
        "ax[0].legend(['Train', 'Validation'], loc='upper left')\n",
        "\n",
        "ax[1].plot(history.history['loss'])\n",
        "ax[1].plot(history.history['val_loss'])\n",
        "ax[1].set_title('Training Loss vs Validation Loss')\n",
        "ax[1].set_ylabel('Loss')\n",
        "ax[1].set_xlabel('Epoch')\n",
        "ax[1].legend(['Train', 'Validation'], loc='upper left')\n",
        "\n",
        "plt.show()"
      ],
      "metadata": {
        "id": "8zmhOz_hSOqz",
        "colab": {
          "base_uri": "https://localhost:8080/",
          "height": 295
        },
        "outputId": "25ddd435-aa8e-49f9-94f6-19615614fead"
      },
      "execution_count": null,
      "outputs": [
        {
          "output_type": "display_data",
          "data": {
            "text/plain": [
              "<Figure size 864x288 with 2 Axes>"
            ],
            "image/png": "[encoded data removed]"
          },
          "metadata": {
            "needs_background": "light"
          }
        }
      ]
    },
    {
      "cell_type": "code",
      "source": [
        "train_loss, train_acc = model.evaluate(train_generator)\n",
        "test_loss, test_acc   = model.evaluate(validation_generator)\n",
        "print(\"final train accuracy = {:.2f} , validation accuracy = {:.2f}\".format(train_acc*100, test_acc*100))"
      ],
      "metadata": {
        "id": "PssPyQUGSQS9",
        "colab": {
          "base_uri": "https://localhost:8080/"
        },
        "outputId": "74d2f8ba-2ebc-4b28-ed5b-cfd8587fa9a3"
      },
      "execution_count": null,
      "outputs": [
        {
          "output_type": "stream",
          "name": "stdout",
          "text": [
            "55/55 [==============================] - 100s 2s/step - loss: 0.0457 - accuracy: 0.9873\n",
            "3/3 [==============================] - 11s 3s/step - loss: 0.3723 - accuracy: 0.8913\n",
            "final train accuracy = 98.73 , validation accuracy = 89.13\n"
          ]
        }
      ]
    }
  ]
}
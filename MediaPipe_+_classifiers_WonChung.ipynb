{
  "nbformat": 4,
  "nbformat_minor": 0,
  "metadata": {
    "colab": {
      "provenance": []
    },
    "kernelspec": {
      "name": "python3",
      "display_name": "Python 3"
    },
    "language_info": {
      "name": "python"
    },
    "accelerator": "GPU",
    "gpuClass": "standard"
  },
  "cells": [
    {
      "cell_type": "code",
      "source": [
        "!pip install mediapipe"
      ],
      "metadata": {
        "colab": {
          "base_uri": "https://localhost:8080/"
        },
        "id": "kRBJz1uwvcss",
        "outputId": "15d31635-bf4c-4a1f-f9d1-534cbfb25868"
      },
      "execution_count": null,
      "outputs": [
        {
          "output_type": "stream",
          "name": "stdout",
          "text": [
            "Looking in indexes: https://pypi.org/simple, https://us-python.pkg.dev/colab-wheels/public/simple/\n",
            "Collecting mediapipe\n",
            "  Downloading mediapipe-0.9.0.1-cp38-cp38-manylinux_2_17_x86_64.manylinux2014_x86_64.whl (33.0 MB)\n",
            "\u001b[K     |████████████████████████████████| 33.0 MB 1.2 MB/s \n",
            "\u001b[?25hRequirement already satisfied: matplotlib in /usr/local/lib/python3.8/dist-packages (from mediapipe) (3.2.2)\n",
            "Requirement already satisfied: attrs>=19.1.0 in /usr/local/lib/python3.8/dist-packages (from mediapipe) (22.1.0)\n",
            "Collecting flatbuffers>=2.0\n",
            "  Downloading flatbuffers-22.12.6-py2.py3-none-any.whl (26 kB)\n",
            "Requirement already satisfied: protobuf<4,>=3.11 in /usr/local/lib/python3.8/dist-packages (from mediapipe) (3.19.6)\n",
            "Requirement already satisfied: opencv-contrib-python in /usr/local/lib/python3.8/dist-packages (from mediapipe) (4.6.0.66)\n",
            "Requirement already satisfied: numpy in /usr/local/lib/python3.8/dist-packages (from mediapipe) (1.21.6)\n",
            "Requirement already satisfied: absl-py in /usr/local/lib/python3.8/dist-packages (from mediapipe) (1.3.0)\n",
            "Requirement already satisfied: kiwisolver>=1.0.1 in /usr/local/lib/python3.8/dist-packages (from matplotlib->mediapipe) (1.4.4)\n",
            "Requirement already satisfied: python-dateutil>=2.1 in /usr/local/lib/python3.8/dist-packages (from matplotlib->mediapipe) (2.8.2)\n",
            "Requirement already satisfied: cycler>=0.10 in /usr/local/lib/python3.8/dist-packages (from matplotlib->mediapipe) (0.11.0)\n",
            "Requirement already satisfied: pyparsing!=2.0.4,!=2.1.2,!=2.1.6,>=2.0.1 in /usr/local/lib/python3.8/dist-packages (from matplotlib->mediapipe) (3.0.9)\n",
            "Requirement already satisfied: six>=1.5 in /usr/local/lib/python3.8/dist-packages (from python-dateutil>=2.1->matplotlib->mediapipe) (1.15.0)\n",
            "Installing collected packages: flatbuffers, mediapipe\n",
            "  Attempting uninstall: flatbuffers\n",
            "    Found existing installation: flatbuffers 1.12\n",
            "    Uninstalling flatbuffers-1.12:\n",
            "      Successfully uninstalled flatbuffers-1.12\n",
            "\u001b[31mERROR: pip's dependency resolver does not currently take into account all the packages that are installed. This behaviour is the source of the following dependency conflicts.\n",
            "tensorflow 2.9.2 requires flatbuffers<2,>=1.12, but you have flatbuffers 22.12.6 which is incompatible.\u001b[0m\n",
            "Successfully installed flatbuffers-22.12.6 mediapipe-0.9.0.1\n"
          ]
        }
      ]
    },
    {
      "cell_type": "markdown",
      "source": [
        "# **Data Generation - Achieve Data**"
      ],
      "metadata": {
        "id": "rsOe5_e9Nt4L"
      }
    },
    {
      "cell_type": "code",
      "execution_count": null,
      "metadata": {
        "colab": {
          "base_uri": "https://localhost:8080/"
        },
        "id": "j0UYQR7I_eyt",
        "outputId": "de7f601d-8621-49b6-efb2-9d81f84bb990"
      },
      "outputs": [
        {
          "output_type": "stream",
          "name": "stdout",
          "text": [
            "Mounted at /content/drive\n"
          ]
        }
      ],
      "source": [
        "# Connect drive to colab to get the test & train dataset\n",
        "from google.colab import drive\n",
        "drive.mount('/content/drive')\n",
        "\n",
        "path = '/content/drive/MyDrive/CV Group Project/DATASET'"
      ]
    },
    {
      "cell_type": "markdown",
      "source": [
        "## **Train Data**"
      ],
      "metadata": {
        "id": "F9ELb-2HgcHE"
      }
    },
    {
      "cell_type": "code",
      "source": [
        "import mediapipe as mp\n",
        "import cv2\n",
        "import os\n",
        "from google.colab.patches import cv2_imshow\n",
        "import math\n",
        "import numpy as np\n",
        "mp_pose = mp.solutions.pose\n",
        "mp_drawing = mp.solutions.drawing_utils\n",
        "\n",
        "train_downdog_file = []\n",
        "train_goddess_file=[]\n",
        "train_plank_file = []\n",
        "train_tree_file = []\n",
        "train_warrior2_file = []\n",
        "\n",
        "with os.scandir('/content/drive/MyDrive/CV Group Project/DATASET/TRAIN/downdog') as entries:\n",
        "    for entry in entries:\n",
        "        train_downdog = cv2.imread('/content/drive/MyDrive/CV Group Project/DATASET/TRAIN/downdog/'+entry.name)\n",
        "        train_downdog_file.append(train_downdog)\n",
        "\n",
        "with os.scandir('/content/drive/MyDrive/CV Group Project/DATASET/TRAIN/goddess') as entries:\n",
        "    for entry in entries:\n",
        "        train_goddess = cv2.imread('/content/drive/MyDrive/CV Group Project/DATASET/TRAIN/goddess/'+entry.name)\n",
        "        train_goddess_file.append(train_goddess)\n",
        "\n",
        "\n",
        "with os.scandir('/content/drive/MyDrive/CV Group Project/DATASET/TRAIN/plank') as entries:\n",
        "    for entry in entries:\n",
        "        train_plank = cv2.imread('/content/drive/MyDrive/CV Group Project/DATASET/TRAIN/plank/'+entry.name)\n",
        "        train_plank_file.append(train_plank)\n",
        "\n",
        "\n",
        "with os.scandir('/content/drive/MyDrive/CV Group Project/DATASET/TRAIN/tree') as entries:\n",
        "    for entry in entries:\n",
        "        train_tree = cv2.imread('/content/drive/MyDrive/CV Group Project/DATASET/TRAIN/tree/'+entry.name)\n",
        "        train_tree_file.append(train_tree)\n",
        "\n",
        "with os.scandir('/content/drive/MyDrive/CV Group Project/DATASET/TRAIN/warrior2') as entries:\n",
        "    for entry in entries:\n",
        "        train_warrior2 = cv2.imread('/content/drive/MyDrive/CV Group Project/DATASET/TRAIN/warrior2/'+entry.name)\n",
        "        train_warrior2_file.append(train_warrior2)"
      ],
      "metadata": {
        "id": "qnyVKiy0ASUn"
      },
      "execution_count": null,
      "outputs": []
    },
    {
      "cell_type": "markdown",
      "source": [
        "## **Test Data**"
      ],
      "metadata": {
        "id": "iQqcvJCbglV9"
      }
    },
    {
      "cell_type": "code",
      "source": [
        "test_downdog_file = []\n",
        "test_goddess_file=[]\n",
        "test_plank_file = []\n",
        "test_tree_file = []\n",
        "test_warrior2_file = []\n",
        "\n",
        "with os.scandir('/content/drive/MyDrive/CV Group Project/DATASET/TEST/downdog') as entries:\n",
        "    for entry in entries:\n",
        "        test_downdog = cv2.imread('/content/drive/MyDrive/CV Group Project/DATASET/TEST/downdog/'+entry.name)\n",
        "        test_downdog_file.append(test_downdog)\n",
        "\n",
        "with os.scandir('/content/drive/MyDrive/CV Group Project/DATASET/TEST/goddess') as entries:\n",
        "    for entry in entries:\n",
        "        test_goddess = cv2.imread('/content/drive/MyDrive/CV Group Project/DATASET/TEST/goddess/'+entry.name)\n",
        "        test_goddess_file.append(test_goddess)\n",
        "\n",
        "\n",
        "with os.scandir('/content/drive/MyDrive/CV Group Project/DATASET/TEST/plank') as entries:\n",
        "    for entry in entries:\n",
        "        test_plank = cv2.imread('/content/drive/MyDrive/CV Group Project/DATASET/TEST/plank/'+entry.name)\n",
        "        test_plank_file.append(test_plank)\n",
        "\n",
        "\n",
        "with os.scandir('/content/drive/MyDrive/CV Group Project/DATASET/TEST/tree') as entries:\n",
        "    for entry in entries:\n",
        "        test_tree = cv2.imread('/content/drive/MyDrive/CV Group Project/DATASET/TEST/tree/'+entry.name)\n",
        "        test_tree_file.append(test_tree)\n",
        "\n",
        "with os.scandir('/content/drive/MyDrive/CV Group Project/DATASET/TEST/warrior2') as entries:\n",
        "    for entry in entries:\n",
        "        test_warrior2 = cv2.imread('/content/drive/MyDrive/CV Group Project/DATASET/TEST/warrior2/'+entry.name)\n",
        "        test_warrior2_file.append(test_warrior2)"
      ],
      "metadata": {
        "id": "cgXO2LfsOJji"
      },
      "execution_count": null,
      "outputs": []
    },
    {
      "cell_type": "markdown",
      "source": [
        "# **Data Clean Up - Only get necessary segmentation**"
      ],
      "metadata": {
        "id": "X92gAPBWgrZi"
      }
    },
    {
      "cell_type": "code",
      "source": [
        "def md_enable_segmentation(image):\n",
        "  with mp_pose.Pose( static_image_mode=True, min_detection_confidence=0.50,model_complexity=2, enable_segmentation=True) as pose:\n",
        "    results = pose.process(cv2.cvtColor(image, cv2.COLOR_BGR2RGB))\n",
        "    \n",
        "    annotated_image = image.copy()\n",
        "    red_img = np.zeros_like(annotated_image, dtype=np.uint8)\n",
        "    red_img[:, :] = (255,255,255)\n",
        "    if results.segmentation_mask is not None:\n",
        "      segm_2class = 0.2 + 0.8 * results.segmentation_mask\n",
        "      segm_2class = np.repeat(segm_2class[..., np.newaxis], 3, axis=2)\n",
        "      annotated_image = annotated_image * segm_2class + red_img * (1 - segm_2class)\n",
        "      img_some = annotated_image\n",
        "      annotated_image= cv2.normalize(annotated_image, None, 0, 255, cv2.NORM_MINMAX, cv2.CV_8U)\n",
        "  return annotated_image\n"
      ],
      "metadata": {
        "id": "wzYZuSlv0lyb"
      },
      "execution_count": null,
      "outputs": []
    },
    {
      "cell_type": "code",
      "source": [
        "def clean_im(im_list):\n",
        "  for i in range(0, len(im_list)):\n",
        "    im_list[i] = md_enable_segmentation(im_list[i])\n",
        "  return im_list"
      ],
      "metadata": {
        "id": "i1mdkCNkQPqy"
      },
      "execution_count": null,
      "outputs": []
    },
    {
      "cell_type": "code",
      "source": [
        "train_downdog = []\n",
        "train_goddess = []\n",
        "train_plank = []\n",
        "train_tree = []\n",
        "train_warrior2 = []\n",
        "test_downdog = []\n",
        "test_goddess = []\n",
        "test_plank = []\n",
        "test_tree = []\n",
        "test_warrior2 = []\n",
        "\n",
        "train_downdog = clean_im(train_downdog_file)\n",
        "train_goddess = clean_im(train_goddess_file)\n",
        "train_plank = clean_im(train_plank_file)\n",
        "train_tree = clean_im(train_tree_file)\n",
        "train_warrior2 = clean_im(train_warrior2_file)\n",
        "test_downdog = clean_im(test_downdog_file)\n",
        "test_goddess = clean_im(test_goddess_file)\n",
        "test_plank = clean_im(test_plank_file)\n",
        "test_tree = clean_im(test_tree_file)\n",
        "test_warrior2 = clean_im(test_warrior2_file)"
      ],
      "metadata": {
        "id": "oQMX1cQlPffP",
        "colab": {
          "base_uri": "https://localhost:8080/"
        },
        "outputId": "5aa82a41-ae7c-4bc8-c2fc-84689193db33"
      },
      "execution_count": null,
      "outputs": [
        {
          "output_type": "stream",
          "name": "stdout",
          "text": [
            "Downloading model to /usr/local/lib/python3.8/dist-packages/mediapipe/modules/pose_landmark/pose_landmark_heavy.tflite\n"
          ]
        }
      ]
    },
    {
      "cell_type": "markdown",
      "source": [
        "# **Data Finalize - Make train & test data dictionary**"
      ],
      "metadata": {
        "id": "9a19iPmGgzKf"
      }
    },
    {
      "cell_type": "code",
      "source": [
        "def calculate_angle(a,b,c): \n",
        "  a = np.array(a)\n",
        "  b = np.array(b)\n",
        "  c = np.array(c)\n",
        "\n",
        "  radians = np.arctan2(c[1]-b[1], c[0]-b[0]) - np.arctan2(a[1]-b[1], a[0]-b[0])\n",
        "  angle = np.abs(radians*180/np.pi)\n",
        "\n",
        "  if angle > 180.0: \n",
        "    angle = 360-angle\n",
        "\n",
        "  return angle"
      ],
      "metadata": {
        "id": "qOIyW90MfefR"
      },
      "execution_count": null,
      "outputs": []
    },
    {
      "cell_type": "code",
      "source": [
        "def making_dictionary(t_dict, IMAGE_FILES, p_label):\n",
        "  with mp_pose.Pose(\n",
        "      static_image_mode=True,\n",
        "      model_complexity=2,\n",
        "      enable_segmentation=True,\n",
        "      min_detection_confidence=0.5) as pose:\n",
        "    for idx,image in enumerate(IMAGE_FILES):\n",
        "      joints_xy = [[] for _ in range(66)]\n",
        "      image_height, image_width, _ = image.shape\n",
        "      # Convert the BGR image to RGB before processing.\n",
        "      results = pose.process(cv2.cvtColor(image, cv2.COLOR_BGR2RGB))\n",
        "      if not results.pose_landmarks:\n",
        "        continue\n",
        "      for i in range(0,33): \n",
        "        joints_xy[2*i].append(results.pose_landmarks.landmark[i].x)\n",
        "        joints_xy[2*i+1].append(results.pose_landmarks.landmark[i].y)\n",
        "\n",
        "      left_shoulder =  [joints_xy[22], joints_xy[23]]\n",
        "      right_shoulder = [joints_xy[24], joints_xy[25]]\n",
        "      left_elbow = [joints_xy[26], joints_xy[27]]\n",
        "      right_elbow = [joints_xy[28], joints_xy[29]]\n",
        "      left_wrist = [joints_xy[30], joints_xy[31]]\n",
        "      right_wrist = [joints_xy[32], joints_xy[33]]\n",
        "      left_index = [joints_xy[38], joints_xy[39]]\n",
        "      right_index = [joints_xy[40], joints_xy[41]]\n",
        "      left_hip = [joints_xy[46], joints_xy[47]]\n",
        "      right_hip = [joints_xy[48], joints_xy[49]]\n",
        "      left_knee = [joints_xy[50], joints_xy[51]]\n",
        "      right_knee = [joints_xy[52], joints_xy[53]]\n",
        "      left_ankle = [joints_xy[54], joints_xy[55]]\n",
        "      right_ankle = [joints_xy[56], joints_xy[57]]\n",
        "      left_foot_index = [joints_xy[62], joints_xy[63]]\n",
        "      right_foot_index = [joints_xy[64], joints_xy[65]]\n",
        "\n",
        "      LShoulder_angle = calculate_angle(right_shoulder, left_shoulder, left_elbow) #LShoulder_angle\n",
        "      RShoulder_angle = calculate_angle(left_shoulder, right_shoulder, right_elbow) #RShoulder_angle\n",
        "      LElbow_angle= calculate_angle(left_shoulder, left_elbow, left_wrist) #LElbow_angle\n",
        "      RElbow_angle = calculate_angle(right_shoulder, right_elbow, right_wrist) #RElbow_angle\n",
        "      LWrist_angle = calculate_angle(left_elbow, left_wrist, left_index) #LWrist_angle\n",
        "      RWrist_angle = calculate_angle(right_elbow, right_wrist, right_index) #RWrist_angle\n",
        "      LHip_angle = calculate_angle(left_shoulder, left_hip, left_knee) #LHip_angle\n",
        "      RHip_angle = calculate_angle(right_shoulder, right_hip, right_knee) #RHip_angle\n",
        "      LKnee_angle = calculate_angle(left_hip, left_knee, left_ankle) #LKnee_angle\n",
        "      RKnee_angle = calculate_angle(right_hip, right_knee, right_ankle) #RKnee_angle\n",
        "      LAnkle_angle = calculate_angle(left_knee, left_ankle, left_foot_index) #LAnkle_angle\n",
        "      RAnkle_angle  = calculate_angle(right_knee, right_ankle, right_foot_index) #RAnkle_angle\n",
        "\n",
        "      in_arr = [round(LShoulder_angle[0],2),round(RShoulder_angle[0],2),round(LElbow_angle[0],2),round(RElbow_angle[0],2),round(LWrist_angle[0],2)\n",
        "              ,round(RWrist_angle[0],2),round(LHip_angle[0],2),round(RHip_angle[0],2),round(LKnee_angle[0],2),round(RKnee_angle[0],2),round(LAnkle_angle[0],2),round(RAnkle_angle[0],2)]\n",
        "      t_dict.update({str(in_arr):p_label})\n",
        "  return t_dict"
      ],
      "metadata": {
        "id": "geeXwt-wy_cq"
      },
      "execution_count": null,
      "outputs": []
    },
    {
      "cell_type": "markdown",
      "source": [
        "## **Train Data Dictionary**"
      ],
      "metadata": {
        "id": "dST83XEUhn0a"
      }
    },
    {
      "cell_type": "code",
      "source": [
        "#Make dictionary for the future input of classifiers\n",
        "train_dict = dict()\n",
        "train_dict = making_dictionary(train_dict, train_downdog, 'downdog')\n",
        "train_dict = making_dictionary(train_dict, train_goddess, 'goddess')\n",
        "train_dict = making_dictionary(train_dict, train_plank, 'plank')\n",
        "train_dict = making_dictionary(train_dict, train_tree, 'tree')\n",
        "train_dict = making_dictionary(train_dict, train_warrior2, 'warrior2')"
      ],
      "metadata": {
        "id": "Q8X7Ke5vxDr7"
      },
      "execution_count": null,
      "outputs": []
    },
    {
      "cell_type": "markdown",
      "source": [
        "## **Test Data Dictionary**"
      ],
      "metadata": {
        "id": "JBEAgFqImwS3"
      }
    },
    {
      "cell_type": "code",
      "source": [
        "test_dict = dict()\n",
        "test_dict = making_dictionary(test_dict, test_downdog, 'downdog')\n",
        "test_dict = making_dictionary(test_dict, test_goddess, 'goddess')\n",
        "test_dict = making_dictionary(test_dict, test_plank, 'plank')\n",
        "test_dict = making_dictionary(test_dict, test_tree, 'tree')\n",
        "test_dict = making_dictionary(test_dict, test_warrior2, 'warrior2')"
      ],
      "metadata": {
        "id": "m5K1faa5DRY-"
      },
      "execution_count": null,
      "outputs": []
    },
    {
      "cell_type": "markdown",
      "source": [
        "#**MLP Classifier**"
      ],
      "metadata": {
        "id": "Zo6bDVBFpCWC"
      }
    },
    {
      "cell_type": "code",
      "source": [
        "from sklearn.neural_network import MLPClassifier \n",
        "from sklearn.model_selection import train_test_split\n",
        "from sklearn.preprocessing import StandardScaler\n",
        "import pandas as pd\n",
        "from sklearn.metrics import plot_confusion_matrix\n",
        "import matplotlib.pyplot as plt\n",
        "from sklearn.metrics import accuracy_score, precision_score"
      ],
      "metadata": {
        "id": "bVXALSMyvYos"
      },
      "execution_count": null,
      "outputs": []
    },
    {
      "cell_type": "code",
      "source": [
        "x_train = list(train_dict.keys())\n",
        "x_test = list(test_dict.keys())\n",
        "y_train = list(train_dict.values())\n",
        "y_test = list(test_dict.values())"
      ],
      "metadata": {
        "id": "amLrqAdQoDHg"
      },
      "execution_count": null,
      "outputs": []
    },
    {
      "cell_type": "code",
      "source": [
        "for i in range(0, len(x_train)):\n",
        "  x_train[i] = x_train[i].strip('][').split(', ')\n",
        "  for j in range(0, len(x_train[i])):\n",
        "    x_train[i][j] = float(x_train[i][j])\n",
        "\n",
        "for i in range(0, len(x_test)):\n",
        "  x_test[i] = x_test[i].strip('][').split(', ')\n",
        "  for j in range(0, len(x_test[i])):\n",
        "    x_test[i][j] = float(x_test[i][j])"
      ],
      "metadata": {
        "id": "5IbCwWjOqz8i"
      },
      "execution_count": null,
      "outputs": []
    },
    {
      "cell_type": "code",
      "source": [
        "clf = MLPClassifier(random_state=1, max_iter=300).fit(x_train, y_train)\n",
        "sc_X = StandardScaler()\n",
        "X_trainscaled=sc_X.fit_transform(x_train)\n",
        "X_testscaled=sc_X.transform(x_test)"
      ],
      "metadata": {
        "id": "knVMJsmQqWbN"
      },
      "execution_count": null,
      "outputs": []
    },
    {
      "cell_type": "code",
      "source": [
        "clf = MLPClassifier(hidden_layer_sizes=(256,128,64,32),activation=\"relu\",random_state=1).fit(X_trainscaled, y_train)\n",
        "y_pred=clf.predict(X_testscaled)\n",
        "print(clf.score(X_testscaled, y_test))\n",
        "print('Accuracy: {:.2f}'.format(accuracy_score(y_test, y_pred)))\n",
        "print('Precision: {:.2f}'.format(precision_score(y_test, y_pred,average='micro')))\n",
        "fig = plot_confusion_matrix(clf, X_testscaled, y_test, display_labels=clf.classes_)\n",
        "fig.figure_.suptitle(\"MLP - Confusion Matrix for Dataset\")\n",
        "plt.show()"
      ],
      "metadata": {
        "colab": {
          "base_uri": "https://localhost:8080/",
          "height": 417
        },
        "id": "13dRHSlTtSUZ",
        "outputId": "2e401b50-3557-4714-e73f-a6b8f98a9e6c"
      },
      "execution_count": null,
      "outputs": [
        {
          "output_type": "stream",
          "name": "stdout",
          "text": [
            "0.9812332439678284\n",
            "Accuracy: 0.98\n",
            "Precision: 0.98\n"
          ]
        },
        {
          "output_type": "stream",
          "name": "stderr",
          "text": [
            "/usr/local/lib/python3.8/dist-packages/sklearn/utils/deprecation.py:87: FutureWarning: Function plot_confusion_matrix is deprecated; Function `plot_confusion_matrix` is deprecated in 1.0 and will be removed in 1.2. Use one of the class methods: ConfusionMatrixDisplay.from_predictions or ConfusionMatrixDisplay.from_estimator.\n",
            "  warnings.warn(msg, category=FutureWarning)\n"
          ]
        },
        {
          "output_type": "display_data",
          "data": {
            "text/plain": [
              "<Figure size 432x288 with 2 Axes>"
            ],
            "image/png": "[encoded data removed]"
          },
          "metadata": {
            "needs_background": "light"
          }
        }
      ]
    },
    {
      "cell_type": "markdown",
      "source": [
        "#**Logistic Regression Classifier**"
      ],
      "metadata": {
        "id": "gHYcXOYZ4H0K"
      }
    },
    {
      "cell_type": "code",
      "source": [
        "from sklearn.linear_model import LogisticRegression"
      ],
      "metadata": {
        "id": "Y6ERMteW4NDG"
      },
      "execution_count": null,
      "outputs": []
    },
    {
      "cell_type": "code",
      "source": [
        "model = LogisticRegression(solver='liblinear', random_state=0)\n",
        "model.fit(x_train, y_train)\n",
        "y_pred = model.predict(x_test)\n",
        "print('Accuracy: {:.2f}'.format(accuracy_score(y_test, y_pred)))\n",
        "print('Precision: {:.2f}'.format(precision_score(y_test, y_pred,average='micro')))\n",
        "fig = plot_confusion_matrix(model, x_test, y_test, display_labels=model.classes_)\n",
        "fig.figure_.suptitle(\"Logistic Regression - Confusion Matrix for Dataset\")"
      ],
      "metadata": {
        "colab": {
          "base_uri": "https://localhost:8080/",
          "height": 417
        },
        "id": "8zHTcOPr4ZQE",
        "outputId": "b683a290-f735-4bfb-bd6e-1698fcaf5fc5"
      },
      "execution_count": null,
      "outputs": [
        {
          "output_type": "stream",
          "name": "stdout",
          "text": [
            "Accuracy: 0.91\n",
            "Precision: 0.91\n"
          ]
        },
        {
          "output_type": "stream",
          "name": "stderr",
          "text": [
            "/usr/local/lib/python3.8/dist-packages/sklearn/utils/deprecation.py:87: FutureWarning: Function plot_confusion_matrix is deprecated; Function `plot_confusion_matrix` is deprecated in 1.0 and will be removed in 1.2. Use one of the class methods: ConfusionMatrixDisplay.from_predictions or ConfusionMatrixDisplay.from_estimator.\n",
            "  warnings.warn(msg, category=FutureWarning)\n"
          ]
        },
        {
          "output_type": "execute_result",
          "data": {
            "text/plain": [
              "Text(0.5, 0.98, 'Logistic Regression - Confusion Matrix for Dataset')"
            ]
          },
          "metadata": {},
          "execution_count": 18
        },
        {
          "output_type": "display_data",
          "data": {
            "text/plain": [
              "<Figure size 432x288 with 2 Axes>"
            ],
            "image/png": "[encoded data removed]"
          },
          "metadata": {
            "needs_background": "light"
          }
        }
      ]
    },
    {
      "cell_type": "markdown",
      "source": [
        "#**K-Nearest Neighbor**"
      ],
      "metadata": {
        "id": "RFZXxYMc5njQ"
      }
    },
    {
      "cell_type": "code",
      "source": [
        "from sklearn.neighbors import KNeighborsClassifier"
      ],
      "metadata": {
        "id": "Xv6pGhrj5tjN"
      },
      "execution_count": null,
      "outputs": []
    },
    {
      "cell_type": "code",
      "source": [
        "it_num = np.arange(1, 9)\n",
        "train_accuracy = np.empty(len(it_num))\n",
        "test_accuracy = np.empty(len(it_num))\n",
        "  \n",
        "# Loop over K values\n",
        "for i, k in enumerate(it_num):\n",
        "    knn = KNeighborsClassifier(n_neighbors=k)\n",
        "    knn.fit(x_train, y_train)\n",
        "      \n",
        "    # Compute training and test data accuracy\n",
        "    train_accuracy[i] = knn.score(x_train, y_train)\n",
        "    test_accuracy[i] = knn.score(x_test, y_test)\n",
        "\n",
        "plt.plot(it_num, test_accuracy, label = 'Testing dataset Accuracy')\n",
        "plt.plot(it_num, train_accuracy, label = 'Training dataset Accuracy')\n",
        "  \n",
        "plt.legend()\n",
        "plt.xlabel('n_neighbors')\n",
        "plt.ylabel('Accuracy')\n",
        "plt.show()"
      ],
      "metadata": {
        "colab": {
          "base_uri": "https://localhost:8080/",
          "height": 280
        },
        "id": "WpYBeyh45vj2",
        "outputId": "8add9dcb-3013-426f-a087-6a0bbba4e637"
      },
      "execution_count": null,
      "outputs": [
        {
          "output_type": "display_data",
          "data": {
            "text/plain": [
              "<Figure size 432x288 with 1 Axes>"
            ],
            "image/png": "[encoded data removed]"
          },
          "metadata": {
            "needs_background": "light"
          }
        }
      ]
    },
    {
      "cell_type": "markdown",
      "source": [
        "### **Compare neighbor=2 and 4**"
      ],
      "metadata": {
        "id": "4Ly1j_em6Zwk"
      }
    },
    {
      "cell_type": "code",
      "source": [
        "knn_2 = KNeighborsClassifier(n_neighbors=2)\n",
        "knn_2.fit(x_train, y_train)\n",
        "\n",
        "y_pred = knn_2.predict(x_test)\n",
        "print('Accuracy: {:.2f}'.format(accuracy_score(y_test, y_pred)))\n",
        "print('Precision: {:.2f}'.format(precision_score(y_test, y_pred,average='micro')))\n",
        "fig = plot_confusion_matrix(knn_2, x_test, y_test, display_labels=model.classes_)\n",
        "fig.figure_.suptitle(\"KNN(k=2) - Confusion Matrix for Dataset\")"
      ],
      "metadata": {
        "colab": {
          "base_uri": "https://localhost:8080/",
          "height": 417
        },
        "id": "espESEQG6kmB",
        "outputId": "a2440e52-3315-44bd-8aab-603c97d372bb"
      },
      "execution_count": null,
      "outputs": [
        {
          "output_type": "stream",
          "name": "stdout",
          "text": [
            "Accuracy: 0.97\n",
            "Precision: 0.97\n"
          ]
        },
        {
          "output_type": "stream",
          "name": "stderr",
          "text": [
            "/usr/local/lib/python3.8/dist-packages/sklearn/utils/deprecation.py:87: FutureWarning: Function plot_confusion_matrix is deprecated; Function `plot_confusion_matrix` is deprecated in 1.0 and will be removed in 1.2. Use one of the class methods: ConfusionMatrixDisplay.from_predictions or ConfusionMatrixDisplay.from_estimator.\n",
            "  warnings.warn(msg, category=FutureWarning)\n"
          ]
        },
        {
          "output_type": "execute_result",
          "data": {
            "text/plain": [
              "Text(0.5, 0.98, 'KNN(k=2) - Confusion Matrix for Dataset')"
            ]
          },
          "metadata": {},
          "execution_count": 21
        },
        {
          "output_type": "display_data",
          "data": {
            "text/plain": [
              "<Figure size 432x288 with 2 Axes>"
            ],
            "image/png": "[encoded data removed]"
          },
          "metadata": {
            "needs_background": "light"
          }
        }
      ]
    },
    {
      "cell_type": "code",
      "source": [
        "knn_4 = KNeighborsClassifier(n_neighbors=4)\n",
        "knn_4.fit(x_train, y_train)\n",
        "\n",
        "y_pred = knn_4.predict(x_test)\n",
        "print('Accuracy: {:.2f}'.format(accuracy_score(y_test, y_pred)))\n",
        "print('Precision: {:.2f}'.format(precision_score(y_test, y_pred,average='micro')))\n",
        "fig = plot_confusion_matrix(knn_4, x_test, y_test, display_labels=model.classes_)\n",
        "fig.figure_.suptitle(\"KNN(k=4) - Confusion Matrix for Dataset\")"
      ],
      "metadata": {
        "colab": {
          "base_uri": "https://localhost:8080/",
          "height": 417
        },
        "id": "2IppgbU4640O",
        "outputId": "a61a49d0-d65b-4a85-cf54-f8a92f0b4285"
      },
      "execution_count": null,
      "outputs": [
        {
          "output_type": "stream",
          "name": "stdout",
          "text": [
            "Accuracy: 0.97\n",
            "Precision: 0.97\n"
          ]
        },
        {
          "output_type": "stream",
          "name": "stderr",
          "text": [
            "/usr/local/lib/python3.8/dist-packages/sklearn/utils/deprecation.py:87: FutureWarning: Function plot_confusion_matrix is deprecated; Function `plot_confusion_matrix` is deprecated in 1.0 and will be removed in 1.2. Use one of the class methods: ConfusionMatrixDisplay.from_predictions or ConfusionMatrixDisplay.from_estimator.\n",
            "  warnings.warn(msg, category=FutureWarning)\n"
          ]
        },
        {
          "output_type": "execute_result",
          "data": {
            "text/plain": [
              "Text(0.5, 0.98, 'KNN(k=4) - Confusion Matrix for Dataset')"
            ]
          },
          "metadata": {},
          "execution_count": 23
        },
        {
          "output_type": "display_data",
          "data": {
            "text/plain": [
              "<Figure size 432x288 with 2 Axes>"
            ],
            "image/png": "[encoded data removed]"
          },
          "metadata": {
            "needs_background": "light"
          }
        }
      ]
    }
  ]
}